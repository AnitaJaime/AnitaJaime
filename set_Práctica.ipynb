{
  "nbformat": 4,
  "nbformat_minor": 0,
  "metadata": {
    "colab": {
      "provenance": [],
      "include_colab_link": true
    },
    "kernelspec": {
      "name": "python3",
      "display_name": "Python 3"
    },
    "language_info": {
      "name": "python"
    }
  },
  "cells": [
    {
      "cell_type": "markdown",
      "metadata": {
        "id": "view-in-github",
        "colab_type": "text"
      },
      "source": [
        "<a href=\"https://colab.research.google.com/github/AnitaJaime/AnitaJaime/blob/main/set_Pr%C3%A1ctica.ipynb\" target=\"_parent\"><img src=\"https://colab.research.google.com/assets/colab-badge.svg\" alt=\"Open In Colab\"/></a>"
      ]
    },
    {
      "cell_type": "markdown",
      "source": [
        "1. Dada la lista de estudiantes, elimina los elementos repetidos de la misma, usando para ello una estructura set. El resultado final debe ser una lista, con la misma estructura de la original, pero sin datos repetidos.\n"
      ],
      "metadata": {
        "id": "wRLng-uURyJ3"
      }
    },
    {
      "cell_type": "code",
      "source": [
        "students = [\n",
        "    {\"name\": \"Abud Laspiur, Lourdes Mariel\", \"section\": \"C\", \"dob\": \"05/12/2006\"},\n",
        "    {\"name\": \"Amador, Luana Micaela\", \"section\": \"C\", \"dob\": \"09/12/2006\"},\n",
        "    {\"name\": \"Anaquin, Leonardo Ezequiel\", \"section\": \"C\", \"dob\": \"06/09/2005\"},\n",
        "    {\"name\": \"Araoz Sanchez, Lautaro Nahuel\", \"section\": \"C\", \"dob\": \"28/12/2005\"},\n",
        "    {\"name\": \"Argañaraz, Agostina Abril\", \"section\": \"C\", \"dob\": \"11/10/2006\"},\n",
        "    {\"name\": \"Barrera, Matias Ezequiel\", \"section\": \"C\", \"dob\": \"27/02/2007\"},\n",
        "    {\"name\": \"Barrera, Matias Ezequiel\", \"section\": \"C\", \"dob\": \"27/02/2007\"},\n",
        "    {\"name\": \"Barrozo Vedia, Joaquin Nicolas\", \"section\": \"C\", \"dob\": \"15/04/2006\"},\n",
        "    {\"name\": \"Bettinelli, Valentino\", \"section\": \"C\", \"dob\": \"12/07/2006\"},\n",
        "    {\"name\": \"Bracamonte Martinez, Salvador\", \"section\": \"C\", \"dob\": \"02/11/2005\"},\n",
        "    {\"name\": \"Colque Rivero, Ariana Zoe Del Valle\", \"section\": \"C\", \"dob\": \"27/12/2006\"},\n",
        "    {\"name\": \"Diaz, Dulce Maitena\", \"section\": \"C\", \"dob\": \"11/12/2006\"},\n",
        "    {\"name\": \"Figueroa, Santino Josue\", \"section\": \"C\", \"dob\": \"12/05/2007\"},\n",
        "    {\"name\": \"Figueroa, Santino Josue\", \"section\": \"C\", \"dob\": \"12/05/2007\"},\n",
        "    {\"name\": \"Flores Cardozo, Agustina Tiara\", \"section\": \"C\", \"dob\": \"18/03/2006\"},\n",
        "    {\"name\": \"Gallo, Octavio Ismael\", \"section\": \"C\", \"dob\": \"04/08/2006\"},\n",
        "    {\"name\": \"Galvan, Lourdes Yamila\", \"section\": \"C\", \"dob\": \"19/08/2005\"},\n",
        "    {\"name\": \"Giangreco, Vitto Tomasso\", \"section\": \"C\", \"dob\": \"21/03/2007\"},\n",
        "    {\"name\": \"Grancara, Martina Luna\", \"section\": \"C\", \"dob\": \"15/12/2006\"},\n",
        "    {\"name\": \"Guanca, Sara Elizabeth\", \"section\": \"C\", \"dob\": \"17/01/2007\"},\n",
        "    {\"name\": \"Lopez, Victoria Constanza\", \"section\": \"C\", \"dob\": \"12/11/2007\"},\n",
        "    {\"name\": \"Mamani Garrido, Rosario Agostina\", \"section\": \"C\", \"dob\": \"24/10/2006\"},\n",
        "    {\"name\": \"Marinaro, Martin Ezequiel\", \"section\": \"C\", \"dob\": \"03/11/2006\"},\n",
        "    {\"name\": \"Merluzzi Dagum, Ignacio\", \"section\": \"C\", \"dob\": \"22/12/2005\"},\n",
        "    {\"name\": \"Messina, Martina\", \"section\": \"C\", \"dob\": \"13/07/2005\"},\n",
        "    {\"name\": \"Rasuk, Karim\", \"section\": \"C\", \"dob\": \"13/07/2007\"},\n",
        "    {\"name\": \"Rasuk, Karim\", \"section\": \"C\", \"dob\": \"13/07/2007\"},\n",
        "    {\"name\": \"Rios, Lucia Magali\", \"section\": \"C\", \"dob\": \"22/09/2006\"},\n",
        "    {\"name\": \"Sanchez Flores, Matías Agustín\", \"section\": \"C\", \"dob\": \"15/02/2007\"},\n",
        "    {\"name\": \"Scarano, Renato Marcelo\", \"section\": \"C\", \"dob\": \"06/12/2006\"},\n",
        "    {\"name\": \"Sierra, Lucas Mauricio\", \"section\": \"C\", \"dob\": \"03/04/2005\"},\n",
        "    {\"name\": \"Tapia, Martin Gabriel\", \"section\": \"C\", \"dob\": \"30/05/2006\"},\n",
        "    {\"name\": \"Vilte, Mia Antonella Alondra\", \"section\": \"C\", \"dob\": \"10/09/2005\"},\n",
        "    {\"name\": \"Virgillito, Katya Milena\", \"section\": \"C\", \"dob\": \"19/06/2007\"},\n",
        "    {\"name\": \"Alurralde, Solange Stefania\", \"section\": \"D\", \"dob\": \"02/04/2007\"},\n",
        "    {\"name\": \"Alvarado, Ludmila Del Milagro\", \"section\": \"D\", \"dob\": \"06/09/2006\"},\n",
        "    {\"name\": \"Angel, Camila Juliana\", \"section\": \"D\", \"dob\": \"07/03/2007\"},\n",
        "    {\"name\": \"Arenas, Lucas Gabriel\", \"section\": \"D\", \"dob\": \"26/06/2007\"},\n",
        "    {\"name\": \"Caseres, Maria Antonia\", \"section\": \"D\", \"dob\": \"01/07/2006\"},\n",
        "    {\"name\": \"Castillo, Paulina Milagros\", \"section\": \"D\", \"dob\": \"01/06/2007\"},\n",
        "    {\"name\": \"Correa Segovia, Hugo Mariano\", \"section\": \"D\", \"dob\": \"04/12/2006\"},\n",
        "    {\"name\": \"Correa Segovia, Hugo Mariano\", \"section\": \"D\", \"dob\": \"04/12/2006\"},\n",
        "    {\"name\": \"D Elia, Alvaro Tadeo\", \"section\": \"D\", \"dob\": \"27/08/2006\"},\n",
        "    {\"name\": \"Flores, Victoria Agustina\", \"section\": \"D\", \"dob\": \"12/12/2006\"},\n",
        "    {\"name\": \"Geronimo Soriano, Lizzie Amaya\", \"section\": \"D\", \"dob\": \"20/01/2007\"},\n",
        "    {\"name\": \"Guzman, Angélica Morena\", \"section\": \"D\", \"dob\": \"11/04/2007\"},\n",
        "    {\"name\": \"Guzman, Jazmin Esmeralda Belen\", \"section\": \"D\", \"dob\": \"31/07/2006\"},\n",
        "    {\"name\": \"Jaime, Anita Maria Belen\", \"section\": \"D\", \"dob\": \"19/04/2007\"},\n",
        "    {\"name\": \"Lacour Polo, Nazarena\", \"section\": \"D\", \"dob\": \"19/12/2005\"},\n",
        "    {\"name\": \"Lascano Guanca, Marcelo Fabricio\", \"section\": \"D\", \"dob\": \"17/02/2006\"},\n",
        "    {\"name\": \"Lezcano, Celia Morena\", \"section\": \"D\", \"dob\": \"01/07/2005\"},\n",
        "    {\"name\": \"Martinez, Tomas Andres\", \"section\": \"D\", \"dob\": \"22/03/2007\"},\n",
        "    {\"name\": \"Portella Valdivia, Pedro Francisco\", \"section\": \"D\", \"dob\": \"24/01/2007\"},\n",
        "    {\"name\": \"Retamal Cisneros, Zacarias Josue\", \"section\": \"D\", \"dob\": \"24/02/2007\"},\n",
        "    {\"name\": \"Rosales, Francisco Gabriel\", \"section\": \"D\", \"dob\": \"14/11/2006\"},\n",
        "    {\"name\": \"Salem Barba, Mahia\", \"section\": \"D\", \"dob\": \"14/10/2005\"},\n",
        "    {\"name\": \"Soto Camara, Agustin Ignacio\", \"section\": \"D\", \"dob\": \"07/11/2005\"},\n",
        "    {\"name\": \"Villalba, Irina\", \"section\": \"D\", \"dob\": \"09/09/2006\"},\n",
        "    {\"name\": \"Voltolini, Emanuel Tobias\", \"section\": \"D\", \"dob\": \"17/09/2006\"},\n",
        "    {\"name\": \"Zalazar, Santino Stefano\", \"section\": \"D\", \"dob\": \"30/09/2006\"},\n",
        "    {\"name\": \"Zalazar, Santino Stefano\", \"section\": \"D\", \"dob\": \"30/09/2006\"}\n",
        "]\n",
        "\n",
        "unique_students = []\n",
        "seen = set()\n",
        "\n",
        "for student in students:\n",
        "    identifier = (student[\"name\"], student[\"section\"], student[\"dob\"])\n",
        "    if identifier not in seen:\n",
        "        seen.add(identifier)\n",
        "        unique_students.append(student)\n",
        "\n",
        "for student in unique_students:\n",
        "    print(student)"
      ],
      "metadata": {
        "colab": {
          "base_uri": "https://localhost:8080/"
        },
        "id": "DNUnHG6PiV69",
        "outputId": "3fbb5d40-edea-4d13-a96b-e99657c3053d"
      },
      "execution_count": null,
      "outputs": [
        {
          "output_type": "stream",
          "name": "stdout",
          "text": [
            "{'name': 'Abud Laspiur, Lourdes Mariel', 'section': 'C', 'dob': '05/12/2006'}\n",
            "{'name': 'Amador, Luana Micaela', 'section': 'C', 'dob': '09/12/2006'}\n",
            "{'name': 'Anaquin, Leonardo Ezequiel', 'section': 'C', 'dob': '06/09/2005'}\n",
            "{'name': 'Araoz Sanchez, Lautaro Nahuel', 'section': 'C', 'dob': '28/12/2005'}\n",
            "{'name': 'Argañaraz, Agostina Abril', 'section': 'C', 'dob': '11/10/2006'}\n",
            "{'name': 'Barrera, Matias Ezequiel', 'section': 'C', 'dob': '27/02/2007'}\n",
            "{'name': 'Barrozo Vedia, Joaquin Nicolas', 'section': 'C', 'dob': '15/04/2006'}\n",
            "{'name': 'Bettinelli, Valentino', 'section': 'C', 'dob': '12/07/2006'}\n",
            "{'name': 'Bracamonte Martinez, Salvador', 'section': 'C', 'dob': '02/11/2005'}\n",
            "{'name': 'Colque Rivero, Ariana Zoe Del Valle', 'section': 'C', 'dob': '27/12/2006'}\n",
            "{'name': 'Diaz, Dulce Maitena', 'section': 'C', 'dob': '11/12/2006'}\n",
            "{'name': 'Figueroa, Santino Josue', 'section': 'C', 'dob': '12/05/2007'}\n",
            "{'name': 'Flores Cardozo, Agustina Tiara', 'section': 'C', 'dob': '18/03/2006'}\n",
            "{'name': 'Gallo, Octavio Ismael', 'section': 'C', 'dob': '04/08/2006'}\n",
            "{'name': 'Galvan, Lourdes Yamila', 'section': 'C', 'dob': '19/08/2005'}\n",
            "{'name': 'Giangreco, Vitto Tomasso', 'section': 'C', 'dob': '21/03/2007'}\n",
            "{'name': 'Grancara, Martina Luna', 'section': 'C', 'dob': '15/12/2006'}\n",
            "{'name': 'Guanca, Sara Elizabeth', 'section': 'C', 'dob': '17/01/2007'}\n",
            "{'name': 'Lopez, Victoria Constanza', 'section': 'C', 'dob': '12/11/2007'}\n",
            "{'name': 'Mamani Garrido, Rosario Agostina', 'section': 'C', 'dob': '24/10/2006'}\n",
            "{'name': 'Marinaro, Martin Ezequiel', 'section': 'C', 'dob': '03/11/2006'}\n",
            "{'name': 'Merluzzi Dagum, Ignacio', 'section': 'C', 'dob': '22/12/2005'}\n",
            "{'name': 'Messina, Martina', 'section': 'C', 'dob': '13/07/2005'}\n",
            "{'name': 'Rasuk, Karim', 'section': 'C', 'dob': '13/07/2007'}\n",
            "{'name': 'Rios, Lucia Magali', 'section': 'C', 'dob': '22/09/2006'}\n",
            "{'name': 'Sanchez Flores, Matías Agustín', 'section': 'C', 'dob': '15/02/2007'}\n",
            "{'name': 'Scarano, Renato Marcelo', 'section': 'C', 'dob': '06/12/2006'}\n",
            "{'name': 'Sierra, Lucas Mauricio', 'section': 'C', 'dob': '03/04/2005'}\n",
            "{'name': 'Tapia, Martin Gabriel', 'section': 'C', 'dob': '30/05/2006'}\n",
            "{'name': 'Vilte, Mia Antonella Alondra', 'section': 'C', 'dob': '10/09/2005'}\n",
            "{'name': 'Virgillito, Katya Milena', 'section': 'C', 'dob': '19/06/2007'}\n",
            "{'name': 'Alurralde, Solange Stefania', 'section': 'D', 'dob': '02/04/2007'}\n",
            "{'name': 'Alvarado, Ludmila Del Milagro', 'section': 'D', 'dob': '06/09/2006'}\n",
            "{'name': 'Angel, Camila Juliana', 'section': 'D', 'dob': '07/03/2007'}\n",
            "{'name': 'Arenas, Lucas Gabriel', 'section': 'D', 'dob': '26/06/2007'}\n",
            "{'name': 'Caseres, Maria Antonia', 'section': 'D', 'dob': '01/07/2006'}\n",
            "{'name': 'Castillo, Paulina Milagros', 'section': 'D', 'dob': '01/06/2007'}\n",
            "{'name': 'Correa Segovia, Hugo Mariano', 'section': 'D', 'dob': '04/12/2006'}\n",
            "{'name': 'D Elia, Alvaro Tadeo', 'section': 'D', 'dob': '27/08/2006'}\n",
            "{'name': 'Flores, Victoria Agustina', 'section': 'D', 'dob': '12/12/2006'}\n",
            "{'name': 'Geronimo Soriano, Lizzie Amaya', 'section': 'D', 'dob': '20/01/2007'}\n",
            "{'name': 'Guzman, Angélica Morena', 'section': 'D', 'dob': '11/04/2007'}\n",
            "{'name': 'Guzman, Jazmin Esmeralda Belen', 'section': 'D', 'dob': '31/07/2006'}\n",
            "{'name': 'Jaime, Anita Maria Belen', 'section': 'D', 'dob': '19/04/2007'}\n",
            "{'name': 'Lacour Polo, Nazarena', 'section': 'D', 'dob': '19/12/2005'}\n",
            "{'name': 'Lascano Guanca, Marcelo Fabricio', 'section': 'D', 'dob': '17/02/2006'}\n",
            "{'name': 'Lezcano, Celia Morena', 'section': 'D', 'dob': '01/07/2005'}\n",
            "{'name': 'Martinez, Tomas Andres', 'section': 'D', 'dob': '22/03/2007'}\n",
            "{'name': 'Portella Valdivia, Pedro Francisco', 'section': 'D', 'dob': '24/01/2007'}\n",
            "{'name': 'Retamal Cisneros, Zacarias Josue', 'section': 'D', 'dob': '24/02/2007'}\n",
            "{'name': 'Rosales, Francisco Gabriel', 'section': 'D', 'dob': '14/11/2006'}\n",
            "{'name': 'Salem Barba, Mahia', 'section': 'D', 'dob': '14/10/2005'}\n",
            "{'name': 'Soto Camara, Agustin Ignacio', 'section': 'D', 'dob': '07/11/2005'}\n",
            "{'name': 'Villalba, Irina', 'section': 'D', 'dob': '09/09/2006'}\n",
            "{'name': 'Voltolini, Emanuel Tobias', 'section': 'D', 'dob': '17/09/2006'}\n",
            "{'name': 'Zalazar, Santino Stefano', 'section': 'D', 'dob': '30/09/2006'}\n"
          ]
        }
      ]
    },
    {
      "cell_type": "markdown",
      "source": [
        "2. Crea un conjunto de nombres y otro de apellidos para 5C y  para 5D.\n",
        "- Muestra los conjuntos generados\n",
        "\n",
        "> recordá que los conjuntos solo pueden almacenar datos inmutables"
      ],
      "metadata": {
        "id": "dYEGkYZyLy9I"
      }
    },
    {
      "cell_type": "code",
      "source": [
        "\n",
        "nombres_5C = set()\n",
        "apellidos_5C = set()\n",
        "nombres_5D = set()\n",
        "apellidos_5D = set()\n",
        "\n",
        "for student in unique_students:\n",
        "    nombre_completo = student[\"name\"]\n",
        "    section = student[\"section\"]\n",
        "\n",
        "    apellidos, nombres = nombre_completo.split(\",\", 1)\n",
        "    apellidos = apellidos.strip()\n",
        "    nombres = nombres.strip()\n",
        "\n",
        "    if section == \"C\":\n",
        "        nombres_5C.add(nombres)\n",
        "        apellidos_5C.add(apellidos)\n",
        "    elif section == \"D\":\n",
        "        nombres_5D.add(nombres)\n",
        "        apellidos_5D.add(apellidos)\n",
        "\n",
        "print(\"Nombres 5C:\", nombres_5C)\n",
        "print(\"Apellidos 5C:\", apellidos_5C)\n",
        "print(\"Nombres 5D:\", nombres_5D)\n",
        "print(\"Apellidos 5D:\", apellidos_5D)"
      ],
      "metadata": {
        "collapsed": true,
        "colab": {
          "base_uri": "https://localhost:8080/"
        },
        "id": "tGHI12TQlhnr",
        "outputId": "45a0337c-9e7f-4a02-b2c1-df4317186249"
      },
      "execution_count": 10,
      "outputs": [
        {
          "output_type": "stream",
          "name": "stdout",
          "text": [
            "Nombres 5C: {'Lourdes Yamila', 'Martina', 'Ariana Zoe Del Valle', 'Sara Elizabeth', 'Matías Agustín', 'Victoria Constanza', 'Rosario Agostina', 'Vitto Tomasso', 'Martin Gabriel', 'Dulce Maitena', 'Mia Antonella Alondra', 'Luana Micaela', 'Lautaro Nahuel', 'Karim', 'Valentino', 'Renato Marcelo', 'Lourdes Mariel', 'Salvador', 'Santino Josue', 'Martina Luna', 'Joaquin Nicolas', 'Lucia Magali', 'Martin Ezequiel', 'Katya Milena', 'Matias Ezequiel', 'Leonardo Ezequiel', 'Ignacio', 'Agustina Tiara', 'Octavio Ismael', 'Agostina Abril', 'Lucas Mauricio'}\n",
            "Apellidos 5C: {'Mamani Garrido', 'Marinaro', 'Scarano', 'Barrera', 'Barrozo Vedia', 'Vilte', 'Bracamonte Martinez', 'Flores Cardozo', 'Merluzzi Dagum', 'Rios', 'Amador', 'Tapia', 'Araoz Sanchez', 'Sanchez Flores', 'Guanca', 'Figueroa', 'Lopez', 'Messina', 'Grancara', 'Anaquin', 'Gallo', 'Argañaraz', 'Diaz', 'Rasuk', 'Bettinelli', 'Galvan', 'Sierra', 'Colque Rivero', 'Virgillito', 'Giangreco', 'Abud Laspiur'}\n",
            "Nombres 5D: {'Lucas Gabriel', 'Paulina Milagros', 'Tomas Andres', 'Hugo Mariano', 'Solange Stefania', 'Ludmila Del Milagro', 'Jazmin Esmeralda Belen', 'Emanuel Tobias', 'Santino Stefano', 'Lizzie Amaya', 'Marcelo Fabricio', 'Camila Juliana', 'Mahia', 'Anita Maria Belen', 'Celia Morena', 'Zacarias Josue', 'Alvaro Tadeo', 'Irina', 'Nazarena', 'Pedro Francisco', 'Francisco Gabriel', 'Maria Antonia', 'Victoria Agustina', 'Angélica Morena', 'Agustin Ignacio'}\n",
            "Apellidos 5D: {'Portella Valdivia', 'Rosales', 'Castillo', 'D Elia', 'Zalazar', 'Correa Segovia', 'Jaime', 'Voltolini', 'Guzman', 'Lacour Polo', 'Lascano Guanca', 'Martinez', 'Caseres', 'Salem Barba', 'Geronimo Soriano', 'Angel', 'Retamal Cisneros', 'Lezcano', 'Alvarado', 'Alurralde', 'Flores', 'Soto Camara', 'Villalba', 'Arenas'}\n"
          ]
        }
      ]
    },
    {
      "cell_type": "markdown",
      "source": [
        "3. Muestra cuantos nombres únicos hay en cada curso."
      ],
      "metadata": {
        "id": "UW2dlBsGMAte"
      }
    },
    {
      "cell_type": "code",
      "source": [
        "\n",
        "cantidad_nombres_unicos_5C = len(nombres_5C)\n",
        "cantidad_nombres_unicos_5D = len(nombres_5D)\n",
        "\n",
        "print(\"Cantidad de nombres únicos en 5C:\", cantidad_nombres_unicos_5C)\n",
        "print(\"Cantidad de nombres únicos en 5D:\", cantidad_nombres_unicos_5D)"
      ],
      "metadata": {
        "collapsed": true,
        "colab": {
          "base_uri": "https://localhost:8080/"
        },
        "id": "CbwlNm4ul8gD",
        "outputId": "2052cdeb-bcce-498e-bcb3-d4f68321bb0b"
      },
      "execution_count": null,
      "outputs": [
        {
          "output_type": "stream",
          "name": "stdout",
          "text": [
            "Cantidad de nombres únicos en 5C: 31\n",
            "Cantidad de nombres únicos en 5D: 25\n"
          ]
        }
      ]
    },
    {
      "cell_type": "markdown",
      "source": [
        "4. Muestra cuantos apellidos únicos hay en cada curso."
      ],
      "metadata": {
        "id": "kZeEHUYVNwGV"
      }
    },
    {
      "cell_type": "code",
      "source": [
        "\n",
        "cantidad_apellidos_unicos_5C = len(apellidos_5C)\n",
        "cantidad_apellidos_unicos_5D = len(apellidos_5D)\n",
        "\n",
        "print(\"Cantidad de apellidos únicos en 5C:\", cantidad_apellidos_unicos_5C)\n",
        "print(\"Cantidad de apellidos únicos en 5D:\", cantidad_apellidos_unicos_5D)"
      ],
      "metadata": {
        "collapsed": true,
        "colab": {
          "base_uri": "https://localhost:8080/"
        },
        "id": "-_p-mfPumHwz",
        "outputId": "1538afbf-8f7b-4b0e-e8c3-063d16cc86a1"
      },
      "execution_count": 11,
      "outputs": [
        {
          "output_type": "stream",
          "name": "stdout",
          "text": [
            "Cantidad de apellidos únicos en 5C: 31\n",
            "Cantidad de apellidos únicos en 5D: 24\n"
          ]
        }
      ]
    },
    {
      "cell_type": "markdown",
      "source": [
        "5. Mostrá los nombres que se aparecen em ambos cursos"
      ],
      "metadata": {
        "id": "ywYmA2JQNp3T"
      }
    },
    {
      "cell_type": "code",
      "source": [
        "\n",
        "\n",
        "nombres_comunes = nombres_5C.intersection(nombres_5D)\n",
        "print(\"Nombres que aparecen en ambos cursos:\", nombres_comunes)"
      ],
      "metadata": {
        "colab": {
          "base_uri": "https://localhost:8080/"
        },
        "id": "itO60lKOq2GX",
        "outputId": "5704e751-ceb3-4469-953b-75138b679cf5"
      },
      "execution_count": 12,
      "outputs": [
        {
          "output_type": "stream",
          "name": "stdout",
          "text": [
            "Nombres que aparecen en ambos cursos: set()\n"
          ]
        }
      ]
    },
    {
      "cell_type": "markdown",
      "source": [
        "6. Mostrá los apellidos que se aparecen en ambos cursos"
      ],
      "metadata": {
        "id": "iAXts6saODoU"
      }
    },
    {
      "cell_type": "code",
      "source": [
        "\n",
        "apellidos_repetidos = apellidos_5C.intersection(apellidos_5D)\n",
        "\n",
        "print(\"Apellidos que se repiten en ambos cursos:\", apellidos_repetidos)"
      ],
      "metadata": {
        "colab": {
          "base_uri": "https://localhost:8080/"
        },
        "id": "Vr6nQ9gNoukm",
        "outputId": "bf9dfacc-f3dc-4ef0-ea3a-0eba08479fdd"
      },
      "execution_count": 13,
      "outputs": [
        {
          "output_type": "stream",
          "name": "stdout",
          "text": [
            "Apellidos que se repiten en ambos cursos: set()\n"
          ]
        }
      ]
    },
    {
      "cell_type": "markdown",
      "source": [
        "7. Mostrá los nombres de los estudiantes de 5C que no existen en 5D y viceversa."
      ],
      "metadata": {
        "id": "T4PFiwwdOK27"
      }
    },
    {
      "cell_type": "code",
      "source": [
        "\n",
        "nombres_solo_5C = nombres_5C.difference(nombres_5D)\n",
        "print(\"Nombres de estudiantes de 5C que no existen en 5D:\", nombres_solo_5C)\n",
        "\n",
        "nombres_solo_5D = nombres_5D.difference(nombres_5C)\n",
        "print(\"Nombres de estudiantes de 5D que no existen en 5C:\", nombres_solo_5D)"
      ],
      "metadata": {
        "colab": {
          "base_uri": "https://localhost:8080/"
        },
        "collapsed": true,
        "id": "_nOx9J-U0Lst",
        "outputId": "b542f14b-fd84-4efb-f51b-efde7d1a7f59"
      },
      "execution_count": null,
      "outputs": [
        {
          "output_type": "stream",
          "name": "stdout",
          "text": [
            "Nombres de estudiantes de 5C que no existen en 5D: {'Lucia Magali', 'Salvador', 'Katya Milena', 'Renato Marcelo', 'Valentino', 'Sara Elizabeth', 'Santino Josue', 'Matias Ezequiel', 'Luana Micaela', 'Lourdes Yamila', 'Agostina Abril', 'Victoria Constanza', 'Lucas Mauricio', 'Karim', 'Lourdes Mariel', 'Matías Agustín', 'Martina', 'Martin Gabriel', 'Rosario Agostina', 'Martin Ezequiel', 'Ariana Zoe Del Valle', 'Mia Antonella Alondra', 'Agustina Tiara', 'Dulce Maitena', 'Joaquin Nicolas', 'Vitto Tomasso', 'Leonardo Ezequiel', 'Lautaro Nahuel', 'Octavio Ismael', 'Ignacio', 'Martina Luna'}\n",
            "Nombres de estudiantes de 5D que no existen en 5C: {'Solange Stefania', 'Francisco Gabriel', 'Hugo Mariano', 'Victoria Agustina', 'Anita Maria Belen', 'Mahia', 'Alvaro Tadeo', 'Tomas Andres', 'Nazarena', 'Jazmin Esmeralda Belen', 'Angélica Morena', 'Celia Morena', 'Camila Juliana', 'Agustin Ignacio', 'Lucas Gabriel', 'Maria Antonia', 'Ludmila Del Milagro', 'Lizzie Amaya', 'Santino Stefano', 'Zacarias Josue', 'Pedro Francisco', 'Paulina Milagros', 'Irina', 'Emanuel Tobias', 'Marcelo Fabricio'}\n"
          ]
        }
      ]
    },
    {
      "cell_type": "markdown",
      "source": [
        "8. Mostrá los apellidos de los estudiantes de 5C que no existen en 5D y viceversa.\n"
      ],
      "metadata": {
        "id": "xfy8SFlZRVGf"
      }
    },
    {
      "cell_type": "code",
      "source": [
        "\n",
        "apellidos_solo_5C = apellidos_5C.difference(apellidos_5D)\n",
        "print(\"Apellidos de estudiantes de 5C que no existen en 5D:\", apellidos_solo_5C)\n",
        "\n",
        "apellidos_solo_5D = apellidos_5D.difference(apellidos_5C)\n",
        "print(\"Apellidos de estudiantes de 5D que no existen en 5C:\", apellidos_solo_5D)"
      ],
      "metadata": {
        "colab": {
          "base_uri": "https://localhost:8080/"
        },
        "collapsed": true,
        "id": "CGX-I4WA0aDa",
        "outputId": "8b1e42e5-4a86-494a-b863-f35609a3cd11"
      },
      "execution_count": null,
      "outputs": [
        {
          "output_type": "stream",
          "name": "stdout",
          "text": [
            "Apellidos de estudiantes de 5C que no existen en 5D: {'Figueroa', 'Amador', 'Tapia', 'Virgillito', 'Barrera', 'Galvan', 'Guanca', 'Scarano', 'Messina', 'Argañaraz', 'Merluzzi Dagum', 'Rios', 'Lopez', 'Sierra', 'Gallo', 'Giangreco', 'Bracamonte Martinez', 'Bettinelli', 'Araoz Sanchez', 'Grancara', 'Mamani Garrido', 'Anaquin', 'Flores Cardozo', 'Rasuk', 'Sanchez Flores', 'Diaz', 'Colque Rivero', 'Marinaro', 'Barrozo Vedia', 'Vilte', 'Abud Laspiur'}\n",
            "Apellidos de estudiantes de 5D que no existen en 5C: {'Salem Barba', 'Soto Camara', 'Lascano Guanca', 'Voltolini', 'D Elia', 'Jaime', 'Alurralde', 'Lacour Polo', 'Correa Segovia', 'Angel', 'Alvarado', 'Lezcano', 'Guzman', 'Arenas', 'Flores', 'Zalazar', 'Rosales', 'Caseres', 'Retamal Cisneros', 'Portella Valdivia', 'Martinez', 'Villalba', 'Castillo', 'Geronimo Soriano'}\n"
          ]
        }
      ]
    },
    {
      "cell_type": "markdown",
      "source": [
        "9. Mostrá todos los nombres, menos aquellos que existen en ambos cursos.\n"
      ],
      "metadata": {
        "id": "lW18NgPjRcGP"
      }
    },
    {
      "cell_type": "code",
      "source": [
        "\n",
        "todos_los_nombres = nombres_5C.union(nombres_5D)\n",
        "\n",
        "nombres_sin_comunes = todos_los_nombres.difference(nombres_comunes)\n",
        "\n",
        "print(\"Todos los nombres, menos aquellos que existen en ambos cursos:\", nombres_sin_comunes)"
      ],
      "metadata": {
        "colab": {
          "base_uri": "https://localhost:8080/"
        },
        "collapsed": true,
        "id": "eqrbsc7n0kKU",
        "outputId": "fa5a756b-3c8f-4e2a-fa9b-7366f64ceb2b"
      },
      "execution_count": null,
      "outputs": [
        {
          "output_type": "stream",
          "name": "stdout",
          "text": [
            "Todos los nombres, menos aquellos que existen en ambos cursos: {'Solange Stefania', 'Lucia Magali', 'Hugo Mariano', 'Francisco Gabriel', 'Victoria Agustina', 'Salvador', 'Katya Milena', 'Renato Marcelo', 'Anita Maria Belen', 'Valentino', 'Sara Elizabeth', 'Santino Josue', 'Alvaro Tadeo', 'Tomas Andres', 'Mahia', 'Nazarena', 'Matias Ezequiel', 'Jazmin Esmeralda Belen', 'Luana Micaela', 'Angélica Morena', 'Celia Morena', 'Lourdes Yamila', 'Agostina Abril', 'Victoria Constanza', 'Camila Juliana', 'Lucas Mauricio', 'Karim', 'Agustin Ignacio', 'Lourdes Mariel', 'Matías Agustín', 'Lucas Gabriel', 'Martina', 'Martin Gabriel', 'Rosario Agostina', 'Martin Ezequiel', 'Ariana Zoe Del Valle', 'Mia Antonella Alondra', 'Agustina Tiara', 'Dulce Maitena', 'Maria Antonia', 'Joaquin Nicolas', 'Ludmila Del Milagro', 'Lizzie Amaya', 'Santino Stefano', 'Zacarias Josue', 'Vitto Tomasso', 'Leonardo Ezequiel', 'Pedro Francisco', 'Paulina Milagros', 'Lautaro Nahuel', 'Octavio Ismael', 'Ignacio', 'Irina', 'Martina Luna', 'Emanuel Tobias', 'Marcelo Fabricio'}\n"
          ]
        }
      ]
    },
    {
      "cell_type": "markdown",
      "source": [
        "10. elimina tu nombre del conjunto al que pertenece"
      ],
      "metadata": {
        "id": "E24lH7x5Xbur"
      }
    },
    {
      "cell_type": "code",
      "source": [
        "\n",
        "\n",
        "nombres_5D.remove(\"Anita Maria Belen\")\n",
        "print(\"Nombres 5D (sin Anita Maria Belen):\", nombres_5D)"
      ],
      "metadata": {
        "colab": {
          "base_uri": "https://localhost:8080/"
        },
        "collapsed": true,
        "id": "Wl7gsv0H0yHD",
        "outputId": "69435a41-7793-480b-d893-eccded9af79a"
      },
      "execution_count": null,
      "outputs": [
        {
          "output_type": "stream",
          "name": "stdout",
          "text": [
            "Nombres 5D (sin Anita Maria Belen): {'Solange Stefania', 'Hugo Mariano', 'Francisco Gabriel', 'Victoria Agustina', 'Alvaro Tadeo', 'Tomas Andres', 'Mahia', 'Nazarena', 'Jazmin Esmeralda Belen', 'Angélica Morena', 'Celia Morena', 'Camila Juliana', 'Agustin Ignacio', 'Lucas Gabriel', 'Maria Antonia', 'Ludmila Del Milagro', 'Lizzie Amaya', 'Santino Stefano', 'Zacarias Josue', 'Pedro Francisco', 'Paulina Milagros', 'Irina', 'Emanuel Tobias', 'Marcelo Fabricio'}\n"
          ]
        }
      ]
    },
    {
      "cell_type": "markdown",
      "source": [
        "11. Solicita al usuario un nombre y un apellido y agregalos a los correspondientes conjuntos de tu curso.\n",
        "\n",
        "\n",
        "\n"
      ],
      "metadata": {
        "id": "vOY6K_ydRc3Q"
      }
    },
    {
      "cell_type": "code",
      "source": [
        "\n",
        "nombre = input(\"Ingresa un nombre: \")\n",
        "apellido = input(\"Ingresa un apellido: \")\n",
        "\n",
        "nombres_5D.add(nombre)\n",
        "apellidos_5D.add(apellido)\n",
        "\n",
        "print(\"Nombres 5D:\", nombres_5D)\n",
        "print(\"Apellidos 5D:\", apellidos_5D)"
      ],
      "metadata": {
        "colab": {
          "base_uri": "https://localhost:8080/"
        },
        "collapsed": true,
        "id": "-EX6G2iO1BwZ",
        "outputId": "80004e27-b538-4aff-ebb9-d2c3ba184c99"
      },
      "execution_count": null,
      "outputs": [
        {
          "output_type": "stream",
          "name": "stdout",
          "text": [
            "Ingresa un nombre: benjamin\n",
            "Ingresa un apellido: trobiani\n",
            "Nombres 5D: {'Solange Stefania', 'Hugo Mariano', 'Francisco Gabriel', 'Victoria Agustina', 'Alvaro Tadeo', 'Tomas Andres', 'Mahia', 'benjamin', 'Nazarena', 'Jazmin Esmeralda Belen', 'Angélica Morena', 'Celia Morena', 'Camila Juliana', 'Agustin Ignacio', 'Lucas Gabriel', 'Maria Antonia', 'Ludmila Del Milagro', 'Lizzie Amaya', 'Santino Stefano', 'Zacarias Josue', 'Pedro Francisco', 'Paulina Milagros', 'Irina', 'Emanuel Tobias', 'Marcelo Fabricio'}\n",
            "Apellidos 5D: {'Salem Barba', 'Soto Camara', 'trobiani', 'Lascano Guanca', 'Voltolini', 'D Elia', 'Jaime', 'Alurralde', 'Lacour Polo', 'Correa Segovia', 'Angel', 'Alvarado', 'Lezcano', 'Guzman', 'Arenas', 'Flores', 'Zalazar', 'Rosales', 'Caseres', 'Retamal Cisneros', 'Portella Valdivia', 'Martinez', 'Villalba', 'Castillo', 'Geronimo Soriano'}\n"
          ]
        }
      ]
    },
    {
      "cell_type": "markdown",
      "source": [
        "12. Solicita un nombre y verifica si este existe en el diccionario"
      ],
      "metadata": {
        "id": "hs1vGDrX2wHq"
      }
    },
    {
      "cell_type": "code",
      "source": [
        "# prompt: Solicita un nombre y verifica si este existe en el diccionario\n",
        "\n",
        "nombre_a_buscar = input(\"Ingrese un nombre a buscar: \")\n",
        "\n",
        "encontrado = False\n",
        "for student in unique_students:\n",
        "  if nombre_a_buscar in student[\"name\"]:\n",
        "    encontrado = True\n",
        "    break\n",
        "\n",
        "if encontrado:\n",
        "  print(\"El nombre se encuentra en el diccionario.\")\n",
        "else:\n",
        "  print(\"El nombre no se encuentra en el diccionario.\")"
      ],
      "metadata": {
        "colab": {
          "base_uri": "https://localhost:8080/"
        },
        "id": "-AzQHzUP1e3u",
        "outputId": "ff0670d4-f5f2-49eb-d122-6647eddc1adb"
      },
      "execution_count": 14,
      "outputs": [
        {
          "output_type": "stream",
          "name": "stdout",
          "text": [
            "Ingrese un nombre a buscar: Lacour Polo, Nazarena\n",
            "El nombre se encuentra en el diccionario.\n"
          ]
        }
      ]
    }
  ]
}